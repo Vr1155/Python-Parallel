{
 "cells": [
  {
   "cell_type": "markdown",
   "id": "1269edb1-1d89-4430-a962-ea7d97e43238",
   "metadata": {},
   "source": [
    "# MPI with mpi4py"
   ]
  },
  {
   "cell_type": "markdown",
   "id": "754d394c-e3cb-43bf-8b27-6e036d442ef7",
   "metadata": {},
   "source": [
    "- Open MPI Project is an open source projet for Message Passing Interface implementation.\n",
    "- This project is developed and maintained by an consortium (aka group) of academic, research and industry partners.\n",
    "- It is for High Performance Computing (HPC).\n",
    "- Python program that we use mpi4py module has to be run using MPI interpreter which is provided with mpirun command. In some systems (OS) instead of mpirun we may have to use mpiexec."
   ]
  },
  {
   "cell_type": "code",
   "execution_count": 1,
   "id": "be79d06c-cd70-46fc-ac3c-e8bb881d1278",
   "metadata": {},
   "outputs": [
    {
     "name": "stdout",
     "output_type": "stream",
     "text": [
      "Hello world...From  0\n"
     ]
    }
   ],
   "source": [
    "'''\n",
    "    Simple hello world ...\n",
    "'''\n",
    "\n",
    "from mpi4py import MPI\n",
    "\n",
    "comm = MPI.COMM_WORLD\n",
    "rank = comm.Get_rank()\n",
    "print(f\"Hello world...From  {rank}\")"
   ]
  },
  {
   "cell_type": "markdown",
   "id": "79a53e48-e6e4-45c0-b327-44394badb3e8",
   "metadata": {},
   "source": [
    "1. Simple hello world ... using mpi4py\n",
    "2. differentiating between each process based on rank.\n",
    "3. simple send/recv data between two processes.\n",
    "\n",
    "Next is \n",
    "\n",
    "## Broadcasting\n",
    "\n",
    "- Broadcasting is sending one data (exact copy) to all processes on the communicator.\n",
    "\n",
    "\n",
    "## Scatter\n",
    "\n",
    "- Scatter takes a range of data data and sends it across the ranks. (i.e. it can send different data)."
   ]
  },
  {
   "cell_type": "markdown",
   "id": "39de3ce2-673e-43d3-873a-a802fa6bc589",
   "metadata": {},
   "source": [
    "## Gather\n",
    "- It is opposite of scatter.\n",
    "- It takes subset of an array that are distributed across the ranks and gathers them into a full array."
   ]
  },
  {
   "cell_type": "markdown",
   "id": "9bfcd3eb-7d72-4e78-a510-36f968276e09",
   "metadata": {},
   "source": [
    "## PASL --> Parsl"
   ]
  },
  {
   "cell_type": "markdown",
   "id": "63c84678-1018-49a5-8ab6-44494d06975c",
   "metadata": {},
   "source": [
    "- Parsl is a Python native library that allows to write and execute parallel functions, bring together dependencies.\n",
    "- Parsl wraps Python functions as applications/apps which can be used as decorators.\n",
    "- for example:\n",
    "    - @functionName --> decorator in python\n",
    " \n",
    "- Install in linux environment using $pip install parsl"
   ]
  },
  {
   "cell_type": "code",
   "execution_count": 2,
   "id": "59a84091-4850-4123-8998-ffb1b64599ac",
   "metadata": {},
   "outputs": [
    {
     "ename": "NameError",
     "evalue": "name 'python_app' is not defined",
     "output_type": "error",
     "traceback": [
      "\u001b[1;31m---------------------------------------------------------------------------\u001b[0m",
      "\u001b[1;31mNameError\u001b[0m                                 Traceback (most recent call last)",
      "Cell \u001b[1;32mIn[2], line 1\u001b[0m\n\u001b[1;32m----> 1\u001b[0m \u001b[38;5;129m@python_app\u001b[39m\n\u001b[0;32m      2\u001b[0m \u001b[38;5;28;01mdef\u001b[39;00m \u001b[38;5;21mfun\u001b[39m():  \n\u001b[0;32m      3\u001b[0m     \u001b[38;5;28;01mpass\u001b[39;00m\n\u001b[0;32m      4\u001b[0m     \u001b[38;5;66;03m# wraps the fun as Python app ..\u001b[39;00m\n",
      "\u001b[1;31mNameError\u001b[0m: name 'python_app' is not defined"
     ]
    }
   ],
   "source": [
    "# just an example of decorators in python:\n",
    "\n",
    "@python_app\n",
    "def fun():  \n",
    "    pass\n",
    "    # wraps the fun as Python app ..\n",
    "\n",
    "@bash_app  \n",
    "def fun():  \n",
    "    pass\n",
    "    # wraps the fun as bash (Bourne Again Shell) app.."
   ]
  },
  {
   "cell_type": "markdown",
   "id": "2b45d1c8-e951-455a-9212-07bb4f1c3711",
   "metadata": {},
   "source": [
    "Before getting on with further examples, Let us revise some basics.\n",
    "-  in Python \n",
    "-  in Bash\n",
    "\n",
    "## What is a shell?\n",
    "\n",
    "- Shell is said to a command interpreter.\n",
    "- When you are  working or interacting with OS. There are two interfaces:\n",
    "  - GUI = Graphical User Interface\n",
    "  - CLI = Command Line Interface\n",
    "      - in Windows --> command prompt\n",
    "      - in UNIX/Linux --> shell\n",
    "- When interacting with shell ...\n",
    "    - input ---> standard Input file/device ---> 0\n",
    "    - output ---> standard output file/device ---> 1 \n",
    "    - error ---> standard error file/device ---> 2\n",
    " \n",
    "    - In C\n",
    "        - stdin, stdout, stderr\n",
    "    - In C++\n",
    "        - cin, cout, cerr\n",
    "    - In Python\n",
    "        - from sys import stdin, stdout, stderr\n",
    "     \n",
    "    - that is by default\n",
    "        - all input is from keyboard (stdin),\n",
    "        - all output is to console (stdout),\n",
    "        - all errors is to console (stderr).\n",
    "\n",
    "## I/O Redirection:\n",
    "- < --> input/read from file\n",
    "- \\> --> output/write into a file (overwrite)\n",
    "- \\>\\> --> output/append into a file\n"
   ]
  },
  {
   "cell_type": "markdown",
   "id": "30f92c70-7b2a-4133-90a8-6ad0efe13dbc",
   "metadata": {},
   "source": [
    "\\$cat simpleTest.py fileOne.py 1> output 2> myerror\n",
    "\n",
    "\\$cat output\n",
    "\n",
    "\\$cat myerror"
   ]
  },
  {
   "cell_type": "code",
   "execution_count": null,
   "id": "65541d4d-9fc9-4e6d-8bfd-a0177d8be05b",
   "metadata": {},
   "outputs": [],
   "source": []
  }
 ],
 "metadata": {
  "kernelspec": {
   "display_name": "Python 3 (ipykernel)",
   "language": "python",
   "name": "python3"
  },
  "language_info": {
   "codemirror_mode": {
    "name": "ipython",
    "version": 3
   },
   "file_extension": ".py",
   "mimetype": "text/x-python",
   "name": "python",
   "nbconvert_exporter": "python",
   "pygments_lexer": "ipython3",
   "version": "3.11.7"
  }
 },
 "nbformat": 4,
 "nbformat_minor": 5
}

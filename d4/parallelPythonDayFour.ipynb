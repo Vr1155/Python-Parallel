{
 "cells": [
  {
   "cell_type": "markdown",
   "metadata": {},
   "source": [
    "# Revision on Parallel Programming:"
   ]
  },
  {
   "cell_type": "markdown",
   "metadata": {},
   "source": [
    "Parallel Computing, parallel processing or multi-processing is to enable or perform multiple tasks/programs to run simultaneously on multiple processors.\n",
    "\n",
    "What we tend to do is by splitting a single task into multiple independant smaller or sub-tasks. Where each sub-tasks is nothing but set of instructions which can run simultaneously on different processors.\n",
    "\n",
    "From your shell point of view..."
   ]
  },
  {
   "cell_type": "markdown",
   "metadata": {},
   "source": [
    "Read:\n",
    "\n",
    "**$man taskset**"
   ]
  },
  {
   "cell_type": "markdown",
   "metadata": {},
   "source": [
    "You will notice that, taskset can \"bond\" a particular command to a processor."
   ]
  },
  {
   "cell_type": "markdown",
   "metadata": {},
   "source": [
    "Hexadecimal numbering system for processors:\n",
    "\n",
    "0000 --> 1\n",
    "\n",
    "0011 --> 3\n",
    "\n",
    "0111 1111 --> 127\n",
    "\n",
    "1111 1111 --> 255\n",
    "\n",
    "--cpu-lists 0-7\n",
    "\n",
    "CPU affinity means that a particular program \"prefers\" to be run on a particular processor.\n",
    "\n",
    "similarly, we can use taskset command to set or retrieve the CPU affinity of a running process by using hexadecimal value of the processor. This processor id is called \"bit mask\".\n",
    "We will also pass the pid of the process we want to bind and the command and arguments that we want to execute."
   ]
  },
  {
   "cell_type": "markdown",
   "metadata": {},
   "source": [
    "**when we run any linux command along with \"&\" we can run that command in background.**\n",
    "\n",
    "for eg:\n",
    "\n",
    "$taskset 1 ./testOne &\n",
    "\n",
    "will run testOne bashScript in background. Notice that process_id is returned, lets say its 55.\n",
    "\n",
    "you can check the affinity mask by the following command:\n",
    "\n",
    "$taskset -p process_id1 process_id2 ....\n",
    "\n",
    "for eg:\n",
    "\n",
    "taskset -p 55 57\n",
    "\n",
    "You can check the number of processors in your computer by the following command:\n",
    "\n",
    "$nproc\n",
    "\n"
   ]
  },
  {
   "cell_type": "markdown",
   "metadata": {},
   "source": [
    "We can also change the affinity of a particular process by the following command:\n",
    "\n",
    "for eg:\n",
    "\n",
    "taskset -cp processor_id processid\n",
    "\n"
   ]
  },
  {
   "cell_type": "markdown",
   "metadata": {},
   "source": [
    "\"--cpu-lists\" option specifies a list of CPUs in numerical order."
   ]
  },
  {
   "cell_type": "markdown",
   "metadata": {
    "vscode": {
     "languageId": "plaintext"
    }
   },
   "source": [
    "taskset also has a lot of options like \"-p\", \"-c\", etc.\n",
    "\n",
    "for more info refer to manual page of taskset command.\n",
    "\n",
    "Also try out \"$kill -l\" to see the list of signals and their correponding number."
   ]
  },
  {
   "cell_type": "markdown",
   "metadata": {},
   "source": [
    "kill command helps us send signals on whether to stop/start or change the status of a process.\n",
    "for more info refer to manual page of kill command"
   ]
  },
  {
   "cell_type": "markdown",
   "metadata": {
    "vscode": {
     "languageId": "plaintext"
    }
   },
   "source": [
    "### Task: run mpOne.py, mpTwo.py and mpThree.py with taskset command"
   ]
  },
  {
   "cell_type": "markdown",
   "metadata": {
    "vscode": {
     "languageId": "plaintext"
    }
   },
   "source": [
    "you can also use redirection \">\" to output print statements to another file:\n",
    "\n",
    "./testOne.py > testOne.out \n",
    "\n",
    "you can use \"$wc -l filename\" for getting word count.\n",
    "\n",
    "make it a background process final argument \"&\" and use sleep to adjust the speed of output.\n",
    "\n"
   ]
  },
  {
   "cell_type": "markdown",
   "metadata": {},
   "source": [
    "## Process state codes:\n",
    "\n",
    "PROCESS STATE CODES\n",
    "1.   R --> running or runnable (on run queue)\n",
    "2.   D --> uninterruptible sleep (usually IO)\n",
    "3.   S --> interruptible sleep (waiting for an event to complete)\n",
    "4.   Z --> defunct/zombie, terminated but not reaped by its parent\n",
    "5.   T --> Terminated, stopped, either by a job control signal or because\n",
    "      it is being traced"
   ]
  },
  {
   "cell_type": "markdown",
   "metadata": {
    "vscode": {
     "languageId": "plaintext"
    }
   },
   "source": [
    "You can use \"$ps -L\" to view all the threads and thread IDs (LWP).\n",
    "\n",
    "Try using it after you make a multithreaded process into a background process.\n",
    "\n",
    "use \"$ps -f\" for full format listing of a process but does not give thread info.\n",
    "\n",
    "\"$ps -F\" gives more extra info.\n"
   ]
  }
 ],
 "metadata": {
  "language_info": {
   "name": "python"
  },
  "orig_nbformat": 4
 },
 "nbformat": 4,
 "nbformat_minor": 2
}

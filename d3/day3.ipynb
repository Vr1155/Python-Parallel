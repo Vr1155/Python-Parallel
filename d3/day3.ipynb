{
 "cells": [
  {
   "cell_type": "markdown",
   "id": "f0f05ae0-5519-4c50-a014-bf14c5216d9a",
   "metadata": {},
   "source": [
    "# Day 3 of Python parallel programming:"
   ]
  },
  {
   "cell_type": "markdown",
   "id": "00e53cd0-44d0-408f-a949-4f4ee91fbcee",
   "metadata": {},
   "source": [
    "- Generating an array of random integers.\n"
   ]
  },
  {
   "cell_type": "code",
   "execution_count": 6,
   "id": "8b792173-a812-4de2-a7c2-06945c3f1a85",
   "metadata": {},
   "outputs": [
    {
     "name": "stdout",
     "output_type": "stream",
     "text": [
      "66\n",
      "[40, 91, 92, 59, 41, 31, 43, 94, 14, 82, 80, 25, 18, 3, 43, 75, 89, 47, 2, 24, 4, 94, 57, 85, 83, 4, 44, 49, 39, 30, 26, 52, 68, 82, 23, 18, 93, 43, 97, 25, 81, 1, 10, 98, 13, 28, 92, 36, 11, 47]\n"
     ]
    }
   ],
   "source": [
    "# randList.py\n",
    "from random import randint\n",
    "\n",
    "var = randint(1,100)\n",
    "lst = [randint(1, 100) for i in range(50)]\n",
    "print(var)\n",
    "print(lst)"
   ]
  },
  {
   "cell_type": "code",
   "execution_count": 10,
   "id": "8807c19a-3f30-447d-97ac-5b18a8f6e926",
   "metadata": {},
   "outputs": [
    {
     "name": "stdout",
     "output_type": "stream",
     "text": [
      "Good args are passed....  C:\\ProgramData\\anaconda3\\Lib\\site-packages\\ipykernel_launcher.py -f C:\\Users\\ADMIN\\AppData\\Roaming\\jupyter\\runtime\\kernel-fea83077-0818-440a-afb0-0431a84dbfcb.json\n"
     ]
    }
   ],
   "source": [
    "from random import randint\n",
    "\n",
    "if '__main__' == __name__:\n",
    "    from sys import argv, exit\n",
    "\n",
    "    if len(argv) > 1:\n",
    "        print(\"Good args are passed.... \", *argv)\n",
    "    else:\n",
    "        print(\"Not Good args are not passed\")\n",
    "        exit(1)\n",
    "\n",
    "    size = int(argv[1])\n",
    "    lst = [randint(1,size * 10) for _ in range(size)]\n",
    "    print(\"List: \", lst)\n",
    "    \n"
   ]
  },
  {
   "cell_type": "code",
   "execution_count": null,
   "id": "bbb537d6-d5e3-448c-95b9-3a93b51f6ba7",
   "metadata": {},
   "outputs": [],
   "source": [
    "from random import randint\n",
    "\n",
    "def bubbleSort(lst):\n",
    "    size = len(lst)\n",
    "\n",
    "    for i in range(size):\n",
    "        for j in range(size-i-1):\n",
    "            if lst[j] > lst[j+1]:\n",
    "                lst[j], lst[j+1] = lst[j+1], lst[j]\n",
    "\n",
    "if '__main__' == __name__:\n",
    "    from sys import argv, exit\n",
    "\n",
    "    if len(argv) > 1:\n",
    "        print(\"Good args are passed.... \", *argv)\n",
    "    else:\n",
    "        print(\"Not Good args are not passed\")\n",
    "        exit(1)\n",
    "\n",
    "    size = int(argv[1])\n",
    "    lst = [randint(1,size * 10) for _ in range(size)]\n",
    "    print(\"List: \", lst)\n",
    "    \n",
    "    print(\"List after sorting:\")\n",
    "    bubbleSort(lst)\n",
    "    print(lst)"
   ]
  },
  {
   "cell_type": "code",
   "execution_count": 11,
   "id": "35121e37-a291-4035-ac31-462edee12fb1",
   "metadata": {},
   "outputs": [
    {
     "ename": "ValueError",
     "evalue": "invalid literal for int() with base 10: '-f'",
     "output_type": "error",
     "traceback": [
      "\u001b[1;31m---------------------------------------------------------------------------\u001b[0m",
      "\u001b[1;31mValueError\u001b[0m                                Traceback (most recent call last)",
      "Cell \u001b[1;32mIn[11], line 26\u001b[0m\n\u001b[0;32m     23\u001b[0m     \u001b[38;5;28mprint\u001b[39m(\u001b[38;5;124m\"\u001b[39m\u001b[38;5;124mpass size\u001b[39m\u001b[38;5;124m\"\u001b[39m)\n\u001b[0;32m     24\u001b[0m     exit(\u001b[38;5;241m1\u001b[39m)\n\u001b[1;32m---> 26\u001b[0m size \u001b[38;5;241m=\u001b[39m \u001b[38;5;28mint\u001b[39m(argv[\u001b[38;5;241m1\u001b[39m])\n\u001b[0;32m     27\u001b[0m lst \u001b[38;5;241m=\u001b[39m [randint(\u001b[38;5;241m1\u001b[39m,size \u001b[38;5;241m*\u001b[39m \u001b[38;5;241m10\u001b[39m) \u001b[38;5;28;01mfor\u001b[39;00m _ \u001b[38;5;129;01min\u001b[39;00m \u001b[38;5;28mrange\u001b[39m(size)]\n\u001b[0;32m     29\u001b[0m start \u001b[38;5;241m=\u001b[39m perf_counter()\n",
      "\u001b[1;31mValueError\u001b[0m: invalid literal for int() with base 10: '-f'"
     ]
    }
   ],
   "source": [
    "#!/c/Users/ADMIN/AppData/Local/Microsoft/WindowsApps/python3\n",
    "\n",
    "# the first line is the location of python3 executable\n",
    "# use \"which python3\" to find location of binaries.\n",
    "# for linux its: usr/bin/python3\n",
    "# for windows its: /c/Users/ADMIN/AppData/Local/Microsoft/WindowsApps/python3\n",
    "# then use chmod 755 to make it executable and\n",
    "# then run this file with ./bubbleSortTwo.py\n",
    "def bubbleSort(lst):\n",
    "    size = len(lst)\n",
    "\n",
    "    for i in range(size):\n",
    "        for j in range(size-i-1):\n",
    "            if lst[j] > lst[j+1]:\n",
    "                lst[j], lst[j+1] = lst[j+1], lst[j]\n",
    "\n",
    "if '__main__' == __name__:\n",
    "    from sys import argv, exit\n",
    "    from random import randint\n",
    "    from time import perf_counter\n",
    "\n",
    "    if len(argv) <= 1:\n",
    "        print(\"pass size\")\n",
    "        exit(1)\n",
    "\n",
    "    size = int(argv[1])\n",
    "    lst = [randint(1,size * 10) for _ in range(size)]\n",
    "\n",
    "    start = perf_counter()\n",
    "    print(\"List before sorting:\", lst)\n",
    "    bubbleSort(lst)\n",
    "    print(\"List after sorting:\", lst)\n",
    "    end = perf_counter()\n",
    "\n",
    "    print(\"Time elapsed: \", round(end - start, 6))"
   ]
  },
  {
   "cell_type": "markdown",
   "id": "b12de85f-7e73-4af7-9289-bdd102ee3060",
   "metadata": {},
   "source": [
    "## Optimized bubble sort:"
   ]
  },
  {
   "cell_type": "code",
   "execution_count": 12,
   "id": "9abbd265-8c27-4ed1-9b37-4b644e8a2129",
   "metadata": {},
   "outputs": [
    {
     "ename": "ValueError",
     "evalue": "invalid literal for int() with base 10: '-f'",
     "output_type": "error",
     "traceback": [
      "\u001b[1;31m---------------------------------------------------------------------------\u001b[0m",
      "\u001b[1;31mValueError\u001b[0m                                Traceback (most recent call last)",
      "Cell \u001b[1;32mIn[12], line 30\u001b[0m\n\u001b[0;32m     27\u001b[0m     \u001b[38;5;28mprint\u001b[39m(\u001b[38;5;124m\"\u001b[39m\u001b[38;5;124mpass size\u001b[39m\u001b[38;5;124m\"\u001b[39m)\n\u001b[0;32m     28\u001b[0m     exit(\u001b[38;5;241m1\u001b[39m)\n\u001b[1;32m---> 30\u001b[0m size \u001b[38;5;241m=\u001b[39m \u001b[38;5;28mint\u001b[39m(argv[\u001b[38;5;241m1\u001b[39m])\n\u001b[0;32m     31\u001b[0m lst \u001b[38;5;241m=\u001b[39m [randint(\u001b[38;5;241m1\u001b[39m,size \u001b[38;5;241m*\u001b[39m \u001b[38;5;241m10\u001b[39m) \u001b[38;5;28;01mfor\u001b[39;00m _ \u001b[38;5;129;01min\u001b[39;00m \u001b[38;5;28mrange\u001b[39m(size)]\n\u001b[0;32m     33\u001b[0m start \u001b[38;5;241m=\u001b[39m perf_counter()\n",
      "\u001b[1;31mValueError\u001b[0m: invalid literal for int() with base 10: '-f'"
     ]
    }
   ],
   "source": [
    "#!/c/Users/ADMIN/AppData/Local/Microsoft/WindowsApps/python3\n",
    "\n",
    "# the first line is the location of python3 executable\n",
    "# use \"which python3\" to find location of binaries.\n",
    "# for linux its: usr/bin/python3\n",
    "# for windows its: /c/Users/ADMIN/AppData/Local/Microsoft/WindowsApps/python3\n",
    "# then use chmod 755 to make it executable and\n",
    "# then run this file with ./bubbleSortTwo.py\n",
    "def bubbleSort(lst):\n",
    "    size = len(lst)\n",
    "\n",
    "    for i in range(size):\n",
    "        swap = False\n",
    "        for j in range(size-i-1):\n",
    "            if lst[j] > lst[j+1]:\n",
    "                lst[j], lst[j+1] = lst[j+1], lst[j]\n",
    "                swap = True\n",
    "        if swap is False:\n",
    "            break\n",
    "\n",
    "if '__main__' == __name__:\n",
    "    from sys import argv, exit\n",
    "    from random import randint\n",
    "    from time import perf_counter\n",
    "\n",
    "    if len(argv) <= 1:\n",
    "        print(\"pass size\")\n",
    "        exit(1)\n",
    "\n",
    "    size = int(argv[1])\n",
    "    lst = [randint(1,size * 10) for _ in range(size)]\n",
    "\n",
    "    start = perf_counter()\n",
    "    print(\"List before sorting:\", lst)\n",
    "    bubbleSort(lst)\n",
    "    print(\"List after sorting:\", lst)\n",
    "    end = perf_counter()\n",
    "    print(\"Time elapsed: \", round(end - start, 6))\n",
    "    bubbleSort(lst)\n",
    "    print(\"Sorted again List:\",lst)\n",
    "    end2 = perf_counter()\n",
    "    print(\"Time elapsed for sorting first: \", round(end - start, 6))\n",
    "    print(\"Time elapsed for sorting again:\",round(end2 - end, 6))"
   ]
  },
  {
   "cell_type": "markdown",
   "id": "6153ae25-2481-4695-a211-34661f74651d",
   "metadata": {},
   "source": [
    "## Parallizing bubble sort with multi-threading"
   ]
  },
  {
   "cell_type": "markdown",
   "id": "1ff8c2a8-9eb3-4773-bb64-cee47e0fd862",
   "metadata": {},
   "source": [
    "1. Bubble Sort:\n",
    "\n",
    "    eg: [93, 63, 61, 60, 86, 70, 6, 47, 31, 53]\n",
    "\n",
    "    If you notice, two adjacent elements are compared in bubble sort.\n",
    "\n",
    "    How about we create two functions which can the inner loop swapping for\n",
    "    odd and even indices of the array.\n",
    "    This will take some time less than regular algorithm.\n",
    "    However, due to context switching between threads, there is some overhead."
   ]
  },
  {
   "cell_type": "markdown",
   "id": "90717e24-fd0b-4d5c-b77a-9e9c9c95e56a",
   "metadata": {},
   "source": [
    "Till now we created threads using objects of the Thread class,\n",
    "\n",
    "    tObj = Thread(target=..., args=...)\n",
    "\n",
    "Now, we will see how to create a class which inherits Thread class.\n"
   ]
  },
  {
   "cell_type": "markdown",
   "id": "f529c0bf-8ac3-4265-a5d0-05dd74dcd29e",
   "metadata": {},
   "source": [
    "Python is \"supposed\" to support OOP just like C++.\n",
    "\n",
    "also note that all threads are not running parallely,\n",
    "There is some context switching happening that\n",
    "allows only one thread to run at a time.\n",
    "\n",
    "This is due to Global Interpreter Lock"
   ]
  },
  {
   "cell_type": "markdown",
   "id": "42babc2b-c63f-4433-bff2-beb35ac0a6f1",
   "metadata": {},
   "source": [
    "## Functional programming"
   ]
  },
  {
   "cell_type": "markdown",
   "id": "8655e902-b6a3-4015-9ee4-c142e84d1c51",
   "metadata": {},
   "source": [
    "see file dataSharing.py\n",
    "\n",
    "In any assignment of a value, the variable is read first.\n",
    "\n",
    "\n",
    "Then operation is performed and then, assignment operator is executed.\n",
    "\n",
    "for eg:\n",
    "\n",
    "    read varValue\n",
    "        perform operation\n",
    "        then assign\n",
    "\n",
    "So in dataSharing.py, three threads are trying to modify 1 variable data.\n",
    "if the value of \"size\" is too large. There will be a race condition.\n",
    "\n"
   ]
  },
  {
   "cell_type": "markdown",
   "id": "20fb51e2-1871-4335-8f1b-1bd4d145f021",
   "metadata": {},
   "source": [
    "### Analogy for race condition:\n",
    "\n",
    "                    |   | p2\n",
    "                    |   |\n",
    "                    |   |\n",
    "                    |   |              p1\n",
    "     ...............     ...................          \n",
    "                    \n",
    "    ................     ...................\n",
    "      p3            |   |\n",
    "                    |   |\n",
    "                    |   |\n",
    "                    |   | p4\n",
    "                    \n",
    "- Assume there is a 4-way intersection and traffic is coming and going in all directions.\n",
    "- In the junction of intersection, there will be some conflict between vehicles, on who will go first and who will wait.\n",
    "- There is a possiblity that two vehicles both move toward the junction and collide. This is called \"Race condition\".\n",
    "- There is possibility that vehicles sit stationary in junction due to traffic jam and blocks upcoming traffic. This is called \"Deadlock\".\n",
    "- Think of the traffic as read and write operations and junction as data on which read and write operations are working on.\n",
    "- In programming terminology, this junction is called \"Critical section\".\n",
    "- Therefore, to avoid problems, we will appoint a traffic policeman who will manage and schedule traffic.\n",
    "- Similarly, in programming terms we need a semaphore (counting semaphore) or mutex lock (mutually exclusive lock) to organize the process traffic into our critical section\n"
   ]
  },
  {
   "cell_type": "markdown",
   "id": "90e6ad96-9ced-4fe4-b993-e800f7288ae7",
   "metadata": {},
   "source": [
    "Up next:\n",
    "\n",
    "- Message passing interface (mpi4py ---> pip install, \n",
    "\n",
    "for windows you have to install mpi package for windows from microsoft, its called msmpisetup.exe file), \n",
    "\n",
    "Then you use mpiexec for running multiprocessing programs.\n",
    "\n",
    "- C++ parallel programming, \n",
    "\n",
    "- PASL (Parallel Algorithm Scheduling Library)\n"
   ]
  },
  {
   "cell_type": "markdown",
   "id": "283772c4-36b3-4eed-91b2-74e1292a94f3",
   "metadata": {},
   "source": [
    "## Simple Hello world program from mpi4py:"
   ]
  },
  {
   "cell_type": "code",
   "execution_count": 1,
   "id": "aa216c79-6f77-4f13-a3b1-ab208f6232a9",
   "metadata": {},
   "outputs": [
    {
     "ename": "ModuleNotFoundError",
     "evalue": "No module named 'mpi4py'",
     "output_type": "error",
     "traceback": [
      "\u001b[1;31m---------------------------------------------------------------------------\u001b[0m",
      "\u001b[1;31mModuleNotFoundError\u001b[0m                       Traceback (most recent call last)",
      "Cell \u001b[1;32mIn[1], line 1\u001b[0m\n\u001b[1;32m----> 1\u001b[0m \u001b[38;5;28;01mfrom\u001b[39;00m \u001b[38;5;21;01mmpi4py\u001b[39;00m \u001b[38;5;28;01mimport\u001b[39;00m MPI\n\u001b[0;32m      3\u001b[0m comm \u001b[38;5;241m=\u001b[39m MPI\u001b[38;5;241m.\u001b[39mCOMM_WORLD\n\u001b[0;32m      4\u001b[0m rank \u001b[38;5;241m=\u001b[39m comm\u001b[38;5;241m.\u001b[39mGet_rank()\n",
      "\u001b[1;31mModuleNotFoundError\u001b[0m: No module named 'mpi4py'"
     ]
    }
   ],
   "source": [
    "from mpi4py import MPI\n",
    "\n",
    "comm = MPI.COMM_WORLD\n",
    "rank = comm.Get_rank()\n",
    "size = comm.Get_size()\n",
    "\n",
    "print(\"Hello world from process\", rank, \"of\", size)"
   ]
  }
 ],
 "metadata": {
  "kernelspec": {
   "display_name": "Python 3 (ipykernel)",
   "language": "python",
   "name": "python3"
  },
  "language_info": {
   "codemirror_mode": {
    "name": "ipython",
    "version": 3
   },
   "file_extension": ".py",
   "mimetype": "text/x-python",
   "name": "python",
   "nbconvert_exporter": "python",
   "pygments_lexer": "ipython3",
   "version": "3.11.7"
  }
 },
 "nbformat": 4,
 "nbformat_minor": 5
}
